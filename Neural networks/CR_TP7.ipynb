{
  "nbformat": 4,
  "nbformat_minor": 0,
  "metadata": {
    "kernelspec": {
      "name": "python383jvsc74a57bd04599310f043cb758359c32a0fd0bacafbd65666338916c6a4f43d5efa8d8bfc8",
      "display_name": "Python 3.8.3 64-bit ('base': conda)"
    },
    "language_info": {
      "codemirror_mode": {
        "name": "ipython",
        "version": 3
      },
      "file_extension": ".py",
      "mimetype": "text/x-python",
      "name": "python",
      "nbconvert_exporter": "python",
      "pygments_lexer": "ipython3",
      "version": "3.8.3"
    },
    "colab": {
      "name": "CR_TP7.ipynb",
      "provenance": [],
      "collapsed_sections": []
    }
  },
  "cells": [
    {
      "cell_type": "markdown",
      "metadata": {
        "id": "SC3n7AsHaAaD"
      },
      "source": [
        "***\n",
        "# TP 7: Réseaux de neuronnes\n",
        "\n",
        "+ Réalisé par:\n",
        "    + Karim HOCINE.\n",
        "\n",
        "\n",
        "***"
      ]
    },
    {
      "cell_type": "code",
      "metadata": {
        "id": "REy6vc_zaAaq"
      },
      "source": [
        "import numpy as np\n",
        "from matplotlib import pyplot as plt\n",
        "import random\n",
        "from sklearn.metrics import accuracy_score\n",
        "from sklearn.model_selection import train_test_split \n",
        "from sklearn.metrics import confusion_matrix\n",
        "import tensorflow as tf \n",
        "from tensorflow.keras import Sequential, Model, Input \n",
        "from tensorflow.keras.layers import Conv2DTranspose, Reshape, Dense, Activation, Flatten, Dropout, Convolution2D, MaxPooling2D, Input\n",
        "from tensorflow.keras.datasets.mnist import load_data\n",
        "import time\n"
      ],
      "execution_count": 1,
      "outputs": []
    },
    {
      "cell_type": "markdown",
      "metadata": {
        "id": "TEok3INJaAaz"
      },
      "source": [
        "# Utilitaires"
      ]
    },
    {
      "cell_type": "code",
      "metadata": {
        "id": "7JWIYq8haAa2"
      },
      "source": [
        "def affiche(history):\n",
        "    # summarize history for accuracy\n",
        "    plt.plot(history.history['accuracy'])\n",
        "    plt.plot(history.history['val_accuracy'])\n",
        "    plt.title('model accuracy')\n",
        "    plt.ylabel('accuracy')\n",
        "    plt.xlabel('epoch')\n",
        "    plt.legend(['train', 'test'], loc='upper left')\n",
        "    plt.show()\n",
        "    # summarize history for loss\n",
        "    plt.plot(history.history['loss'])\n",
        "    plt.plot(history.history['val_loss'])\n",
        "    plt.title('model loss')\n",
        "    plt.ylabel('loss')\n",
        "    plt.xlabel('epoch')\n",
        "    plt.legend(['train', 'test'], loc='upper left')\n",
        "    plt.show()\n",
        "\n",
        "def split_base(Base, labels, split_ratio ):\n",
        "    Nb=Base.shape[0]\n",
        "    Nbnew=round(Nb*split_ratio)\n",
        "    l = [i for i in range(Nb)]\n",
        "    l=random.sample(l, Nbnew)\n",
        "    BaseApp=np.empty([Nbnew,Base.shape[1],Base.shape[2]])\n",
        "    labelsApp=np.empty(Nbnew)\n",
        "\n",
        "\n",
        "    for i in range (0,Nbnew):\n",
        "        BaseApp[i,:,:]=Base[l[i],:,:]\n",
        "        labelsApp[i]=labels[l[i]]\n",
        "\n",
        "    return BaseApp,labelsApp"
      ],
      "execution_count": 2,
      "outputs": []
    },
    {
      "cell_type": "markdown",
      "metadata": {
        "id": "rDry_IjfaAa7"
      },
      "source": [
        "# I. Chargement et mise en forme des données"
      ]
    },
    {
      "cell_type": "code",
      "metadata": {
        "id": "8Km_lEasaAa_"
      },
      "source": [
        "(X_train, y_train), (X_test, y_test) = load_data() \n",
        "X_train, pipo, y_train, pipo = train_test_split(X_train, y_train, test_size=0.9) \n",
        "X_test, pipo, y_test, pipo = train_test_split(X_test, y_test, test_size=0.9)\n",
        "\n",
        "\"\"\"for i in range(200): \n",
        "  plt.subplot(10,20,i+1) \n",
        "  plt.imshow(X_train[i,:].reshape([28,28]), cmap='gray') \n",
        "  plt.axis('off') \n",
        "  plt.show()\"\"\"\n",
        "\n",
        "# Preprocess input data \n",
        "X_train = X_train.reshape(X_train.shape[0], X_train.shape[1], X_train.shape[2], 1) \n",
        "X_test = X_test.reshape(X_test.shape[0], X_train.shape[1], X_train.shape[2], 1) \n",
        "\n",
        "X_train = X_train.astype('float32') \n",
        "X_test = X_test.astype('float32') \n",
        "\n",
        "# Normalisation\n",
        "X_train /= 255 \n",
        "X_test /= 255\n",
        "\n",
        "# Preprocess class labels \n",
        "# Transforme nos label en vecteur de booléens\n",
        "Y_train = tf.keras.utils.to_categorical(y_train, 10)\n",
        "Y_test = tf.keras.utils.to_categorical(y_test, 10)"
      ],
      "execution_count": 3,
      "outputs": []
    },
    {
      "cell_type": "code",
      "metadata": {
        "colab": {
          "base_uri": "https://localhost:8080/"
        },
        "id": "Yzq1F0nyfC2e",
        "outputId": "145acd93-7bc6-4594-851c-9d8cde07e62e"
      },
      "source": [
        "# Verification des dimensions\n",
        "print(\"Dimension de X_train :\", X_train.shape)\n",
        "print(\"Dimension de Y_train :\", Y_train.shape)\n",
        "print(\"Dimension de X_test :\", X_test.shape)\n",
        "print(\"Dimension de Y_test :\", Y_test.shape)"
      ],
      "execution_count": 4,
      "outputs": [
        {
          "output_type": "stream",
          "text": [
            "Dimension de X_train : (6000, 28, 28, 1)\n",
            "Dimension de Y_train : (6000, 10)\n",
            "Dimension de X_test : (1000, 28, 28, 1)\n",
            "Dimension de Y_test : (1000, 10)\n"
          ],
          "name": "stdout"
        }
      ]
    },
    {
      "cell_type": "markdown",
      "metadata": {
        "id": "mFySy6aWfuX4"
      },
      "source": [
        "+ Il y'a 1000 images de dimension 28x28 dans la base de test.\n",
        "+ Il y'a 10 classes.\n",
        "+ Le prétraitement des données consiste à mettre en forme nos donnée pour qu'elles soient compatibles avec les entrées des modèles d'apprentissages choisis.\n",
        "+ **tf.keras.utils.to_categorical: ** sert à  représenter nos 10 classes sous formes booléenne, ou on retrouvera un 1 à la position de la bonne classe et 0 dans les autres emplacement.\n",
        "+ Dimension de Y_train : (6000, 10)"
      ]
    },
    {
      "cell_type": "markdown",
      "metadata": {
        "id": "ITgc9htNaAbB"
      },
      "source": [
        "# II. Régression logistique"
      ]
    },
    {
      "cell_type": "markdown",
      "metadata": {
        "id": "0Jh9HwjGc8ie"
      },
      "source": [
        "## 1. Définition du réseau de neuronne"
      ]
    },
    {
      "cell_type": "code",
      "metadata": {
        "colab": {
          "base_uri": "https://localhost:8080/"
        },
        "id": "2cU2w331aAbD",
        "outputId": "be7215b7-6d13-467d-cfc2-95414afc9f15"
      },
      "source": [
        "# Initialiser le shape de nos entrées\n",
        "inputs = Input(shape=(28,28,1)) \n",
        "# Fixer x comme etant notre entrée\n",
        "x = inputs \n",
        "# Transformer X en vecteur\n",
        "x=Flatten()(x) \n",
        "# une couche de 10 neuronnes comme sortie\n",
        "outputs=Dense(10, activation='softmax')(x) \n",
        "# Créer le modèle a partie de l'architecture precedente\n",
        "model = Model(inputs, outputs) \n",
        "model.summary()"
      ],
      "execution_count": 5,
      "outputs": [
        {
          "output_type": "stream",
          "text": [
            "Model: \"model\"\n",
            "_________________________________________________________________\n",
            "Layer (type)                 Output Shape              Param #   \n",
            "=================================================================\n",
            "input_1 (InputLayer)         [(None, 28, 28, 1)]       0         \n",
            "_________________________________________________________________\n",
            "flatten (Flatten)            (None, 784)               0         \n",
            "_________________________________________________________________\n",
            "dense (Dense)                (None, 10)                7850      \n",
            "=================================================================\n",
            "Total params: 7,850\n",
            "Trainable params: 7,850\n",
            "Non-trainable params: 0\n",
            "_________________________________________________________________\n"
          ],
          "name": "stdout"
        }
      ]
    },
    {
      "cell_type": "markdown",
      "metadata": {
        "id": "h5jqUDuejOLV"
      },
      "source": [
        "+ On utilise la fonction d'activation softmax pour transformer nos sortie en probabilité d'appartenance à une Classe.\n",
        "+ **Nombre de paramètres d'apprentissage:**\n",
        "$$\n",
        "params = (28*28)*10 + 10 = 7850\n",
        "$$\n",
        "\n",
        "+ **Flatten:** sert à transformer une matrice en un vecteur à une dimension."
      ]
    },
    {
      "cell_type": "markdown",
      "metadata": {
        "id": "A3uCapdYkNnf"
      },
      "source": [
        "## 2. Apprentissage"
      ]
    },
    {
      "cell_type": "code",
      "metadata": {
        "colab": {
          "base_uri": "https://localhost:8080/",
          "height": 1000
        },
        "id": "h4m2agtkkRAS",
        "outputId": "483a9dad-a5e6-4ac7-8af9-e8595043136b"
      },
      "source": [
        "lr= 0.1\n",
        "batch_size=256 \n",
        "epochs=20\n",
        "\n",
        "sgd1= tf.keras.optimizers.SGD(learning_rate=lr) \n",
        "model.compile(loss='categorical_crossentropy', optimizer=sgd1, metrics=['accuracy'])\n",
        "\n",
        "tps1 = time.clock() \n",
        "history =model.fit(X_train, Y_train, batch_size=batch_size, epochs=epochs, verbose=1,validation_data=(X_test, Y_test)) \n",
        "tps2 = time.clock()  \n",
        "affiche(history) \n",
        "\n",
        "#donnee en annexe \n",
        "print('lr=',lr,'batch_size=',batch_size, 'epochs=',epochs) \n",
        "print(f\"accuracy = {history.history['val_accuracy'][-1]}\")\n",
        "print('Temps d apprentissage',tps2 - tps1)"
      ],
      "execution_count": 6,
      "outputs": [
        {
          "output_type": "stream",
          "text": [
            "Epoch 1/20\n"
          ],
          "name": "stdout"
        },
        {
          "output_type": "stream",
          "text": [
            "/usr/local/lib/python3.7/dist-packages/ipykernel_launcher.py:8: DeprecationWarning: time.clock has been deprecated in Python 3.3 and will be removed from Python 3.8: use time.perf_counter or time.process_time instead\n",
            "  \n"
          ],
          "name": "stderr"
        },
        {
          "output_type": "stream",
          "text": [
            "24/24 [==============================] - 1s 25ms/step - loss: 1.8766 - accuracy: 0.4416 - val_loss: 1.0671 - val_accuracy: 0.8010\n",
            "Epoch 2/20\n",
            "24/24 [==============================] - 0s 5ms/step - loss: 0.9944 - accuracy: 0.8082 - val_loss: 0.7700 - val_accuracy: 0.8410\n",
            "Epoch 3/20\n",
            "24/24 [==============================] - 0s 4ms/step - loss: 0.7688 - accuracy: 0.8411 - val_loss: 0.6503 - val_accuracy: 0.8480\n",
            "Epoch 4/20\n",
            "24/24 [==============================] - 0s 4ms/step - loss: 0.6453 - accuracy: 0.8612 - val_loss: 0.5809 - val_accuracy: 0.8630\n",
            "Epoch 5/20\n",
            "24/24 [==============================] - 0s 5ms/step - loss: 0.5806 - accuracy: 0.8663 - val_loss: 0.5318 - val_accuracy: 0.8670\n",
            "Epoch 6/20\n",
            "24/24 [==============================] - 0s 5ms/step - loss: 0.5544 - accuracy: 0.8666 - val_loss: 0.5066 - val_accuracy: 0.8700\n",
            "Epoch 7/20\n",
            "24/24 [==============================] - 0s 5ms/step - loss: 0.5024 - accuracy: 0.8789 - val_loss: 0.4818 - val_accuracy: 0.8680\n",
            "Epoch 8/20\n",
            "24/24 [==============================] - 0s 5ms/step - loss: 0.4792 - accuracy: 0.8776 - val_loss: 0.4616 - val_accuracy: 0.8780\n",
            "Epoch 9/20\n",
            "24/24 [==============================] - 0s 4ms/step - loss: 0.4652 - accuracy: 0.8815 - val_loss: 0.4466 - val_accuracy: 0.8770\n",
            "Epoch 10/20\n",
            "24/24 [==============================] - 0s 5ms/step - loss: 0.4448 - accuracy: 0.8860 - val_loss: 0.4350 - val_accuracy: 0.8780\n",
            "Epoch 11/20\n",
            "24/24 [==============================] - 0s 5ms/step - loss: 0.4360 - accuracy: 0.8880 - val_loss: 0.4243 - val_accuracy: 0.8840\n",
            "Epoch 12/20\n",
            "24/24 [==============================] - 0s 4ms/step - loss: 0.4059 - accuracy: 0.8977 - val_loss: 0.4140 - val_accuracy: 0.8910\n",
            "Epoch 13/20\n",
            "24/24 [==============================] - 0s 5ms/step - loss: 0.4066 - accuracy: 0.8958 - val_loss: 0.4063 - val_accuracy: 0.8910\n",
            "Epoch 14/20\n",
            "24/24 [==============================] - 0s 4ms/step - loss: 0.4014 - accuracy: 0.8945 - val_loss: 0.4018 - val_accuracy: 0.8820\n",
            "Epoch 15/20\n",
            "24/24 [==============================] - 0s 5ms/step - loss: 0.3866 - accuracy: 0.9042 - val_loss: 0.3946 - val_accuracy: 0.8870\n",
            "Epoch 16/20\n",
            "24/24 [==============================] - 0s 4ms/step - loss: 0.3796 - accuracy: 0.8997 - val_loss: 0.3911 - val_accuracy: 0.8860\n",
            "Epoch 17/20\n",
            "24/24 [==============================] - 0s 5ms/step - loss: 0.3752 - accuracy: 0.9043 - val_loss: 0.3835 - val_accuracy: 0.8910\n",
            "Epoch 18/20\n",
            "24/24 [==============================] - 0s 5ms/step - loss: 0.3650 - accuracy: 0.9074 - val_loss: 0.3803 - val_accuracy: 0.8940\n",
            "Epoch 19/20\n",
            "24/24 [==============================] - 0s 5ms/step - loss: 0.3594 - accuracy: 0.9029 - val_loss: 0.3751 - val_accuracy: 0.8900\n",
            "Epoch 20/20\n",
            "24/24 [==============================] - 0s 5ms/step - loss: 0.3564 - accuracy: 0.9047 - val_loss: 0.3724 - val_accuracy: 0.8910\n"
          ],
          "name": "stdout"
        },
        {
          "output_type": "stream",
          "text": [
            "/usr/local/lib/python3.7/dist-packages/ipykernel_launcher.py:10: DeprecationWarning: time.clock has been deprecated in Python 3.3 and will be removed from Python 3.8: use time.perf_counter or time.process_time instead\n",
            "  # Remove the CWD from sys.path while we load stuff.\n"
          ],
          "name": "stderr"
        },
        {
          "output_type": "display_data",
          "data": {
            "image/png": "[encoded data removed]",
            "text/plain": [
              "<Figure size 432x288 with 1 Axes>"
            ]
          },
          "metadata": {
            "tags": [],
            "needs_background": "light"
          }
        },
        {
          "output_type": "display_data",
          "data": {
            "image/png": "[encoded data removed]",
            "text/plain": [
              "<Figure size 432x288 with 1 Axes>"
            ]
          },
          "metadata": {
            "tags": [],
            "needs_background": "light"
          }
        },
        {
          "output_type": "stream",
          "text": [
            "lr= 0.1 batch_size= 256 epochs= 20\n",
            "accuracy = 0.890999972820282\n",
            "Temps d apprentissage 3.5098569999999993\n"
          ],
          "name": "stdout"
        }
      ]
    },
    {
      "cell_type": "markdown",
      "metadata": {
        "id": "g3A3uqBMoCQk"
      },
      "source": [
        "+ lr : Learning Rate\n",
        "+ Batchs : Sous ensemble de la base d'apprentissage.\n",
        "+ Epochs : Nombres de fois que tous les exemples sont vus en apprentissages.\n",
        "+ La crossentropie catégorielle est bien adaptée aux tâches de classification, puisqu'un exemple peut être considéré comme appartenant à une catégorie spécifique avec une probabilité 1, et à d'autres catégories avec une probabilité 0."
      ]
    },
    {
      "cell_type": "markdown",
      "metadata": {
        "id": "8Gt6flKwsJeY"
      },
      "source": [
        "## 3. Evaluation du modèle"
      ]
    },
    {
      "cell_type": "code",
      "metadata": {
        "colab": {
          "base_uri": "https://localhost:8080/"
        },
        "id": "Y3EPzklQsLi6",
        "outputId": "4efdf802-175d-44f1-eab5-5f0ae04a70d8"
      },
      "source": [
        "score = model.evaluate(X_test, Y_test, verbose=0) \n",
        "print('Test loss:', score[0]) \n",
        "print('Test accuracy:', score[1]*100) \n",
        "y_pred = model.predict(X_test) \n",
        "y_pred = y_pred.argmax(axis=-1) \n",
        "print('Confusion Matrix') \n",
        "print(confusion_matrix(y_test, y_pred))"
      ],
      "execution_count": 7,
      "outputs": [
        {
          "output_type": "stream",
          "text": [
            "Test loss: 0.37240171432495117\n",
            "Test accuracy: 89.0999972820282\n",
            "Confusion Matrix\n",
            "[[ 84   0   0   0   0   0   2   0   0   0]\n",
            " [  0 120   0   1   0   0   0   0   0   0]\n",
            " [  1   1  83   4   1   0   1   1   3   1]\n",
            " [  0   0   1  97   0   2   1   2   3   0]\n",
            " [  0   1   2   0  76   0   1   0   1   5]\n",
            " [  2   1   0   8   2  81   3   1   3   0]\n",
            " [  2   1   0   0   1   1 104   0   1   0]\n",
            " [  1   4   5   0   0   0   0  85   0   6]\n",
            " [  0   2   1   5   3   2   2   2  63   0]\n",
            " [  0   0   0   1   5   4   1   2   2  98]]\n"
          ],
          "name": "stdout"
        }
      ]
    },
    {
      "cell_type": "markdown",
      "metadata": {
        "id": "vMDZp2E0aAbF"
      },
      "source": [
        "# III. MLP"
      ]
    },
    {
      "cell_type": "markdown",
      "metadata": {
        "id": "Ap_g2vaPtx5C"
      },
      "source": [
        "## Création du modèle"
      ]
    },
    {
      "cell_type": "code",
      "metadata": {
        "colab": {
          "base_uri": "https://localhost:8080/"
        },
        "id": "f-FA6ZbjaAbG",
        "outputId": "1aebcb9c-b57b-464d-9a0c-35845658ab39"
      },
      "source": [
        "inputs = Input(shape=(28,28,1)) \n",
        "x = inputs \n",
        "x=Flatten()(x) \n",
        "# 1ere couche avec 256 Neuronnes\n",
        "x = Dense(256, activation='relu')(x) \n",
        "# Dropout de 50%\n",
        "x = Dropout(0.5)(x)\n",
        "# Couche de sortie avec 10 Neuronnes\n",
        "outputs= Dense(10, activation='softmax')(x) \n",
        "model = Model(inputs, outputs) \n",
        "model.summary()"
      ],
      "execution_count": 38,
      "outputs": [
        {
          "output_type": "stream",
          "text": [
            "Model: \"model_13\"\n",
            "_________________________________________________________________\n",
            "Layer (type)                 Output Shape              Param #   \n",
            "=================================================================\n",
            "input_14 (InputLayer)        [(None, 28, 28, 1)]       0         \n",
            "_________________________________________________________________\n",
            "flatten_13 (Flatten)         (None, 784)               0         \n",
            "_________________________________________________________________\n",
            "dense_26 (Dense)             (None, 256)               200960    \n",
            "_________________________________________________________________\n",
            "dropout_13 (Dropout)         (None, 256)               0         \n",
            "_________________________________________________________________\n",
            "dense_27 (Dense)             (None, 10)                2570      \n",
            "=================================================================\n",
            "Total params: 203,530\n",
            "Trainable params: 203,530\n",
            "Non-trainable params: 0\n",
            "_________________________________________________________________\n"
          ],
          "name": "stdout"
        }
      ]
    },
    {
      "cell_type": "markdown",
      "metadata": {
        "id": "Hhi-YMXzvQlR"
      },
      "source": [
        "$$\n",
        "params = (28*28*256 + 256) * (256*10 + 10)  = 203 530\n",
        "$$"
      ]
    },
    {
      "cell_type": "markdown",
      "metadata": {
        "id": "2a4guM__tujf"
      },
      "source": [
        "## 2. Apprentissage"
      ]
    },
    {
      "cell_type": "code",
      "metadata": {
        "colab": {
          "base_uri": "https://localhost:8080/",
          "height": 1000
        },
        "id": "nljBek3Htj3D",
        "outputId": "3338255a-69c4-4011-ab7a-151b044c1b1e"
      },
      "source": [
        "lr= 0.1\n",
        "batch_size=256\n",
        "epochs=20\n",
        "\n",
        "sgd1= tf.keras.optimizers.SGD(learning_rate=lr, momentum = 0.9) \n",
        "model.compile(loss='categorical_crossentropy', optimizer=sgd1, metrics=['accuracy'])\n",
        "\n",
        "tps1 = time.clock() \n",
        "history =model.fit(X_train, Y_train, batch_size=batch_size, epochs=epochs, verbose=1,validation_data=(X_test, Y_test)) \n",
        "tps2 = time.clock()  \n",
        "affiche(history) \n",
        "\n",
        "#donnee en annexe \n",
        "print('lr=',lr,'batch_size=',batch_size, 'epochs=',epochs) \n",
        "print(f\"accuracy = {history.history['val_accuracy'][-1]}\")\n",
        "print('Temps d apprentissage',tps2 - tps1)"
      ],
      "execution_count": 39,
      "outputs": [
        {
          "output_type": "stream",
          "text": [
            "/usr/local/lib/python3.7/dist-packages/ipykernel_launcher.py:8: DeprecationWarning: time.clock has been deprecated in Python 3.3 and will be removed from Python 3.8: use time.perf_counter or time.process_time instead\n",
            "  \n"
          ],
          "name": "stderr"
        },
        {
          "output_type": "stream",
          "text": [
            "Epoch 1/20\n",
            "24/24 [==============================] - 1s 17ms/step - loss: 1.6539 - accuracy: 0.4458 - val_loss: 0.4205 - val_accuracy: 0.8610\n",
            "Epoch 2/20\n",
            "24/24 [==============================] - 0s 10ms/step - loss: 0.4910 - accuracy: 0.8467 - val_loss: 0.3176 - val_accuracy: 0.9030\n",
            "Epoch 3/20\n",
            "24/24 [==============================] - 0s 10ms/step - loss: 0.3540 - accuracy: 0.8917 - val_loss: 0.2750 - val_accuracy: 0.9250\n",
            "Epoch 4/20\n",
            "24/24 [==============================] - 0s 10ms/step - loss: 0.2736 - accuracy: 0.9203 - val_loss: 0.2381 - val_accuracy: 0.9260\n",
            "Epoch 5/20\n",
            "24/24 [==============================] - 0s 10ms/step - loss: 0.2347 - accuracy: 0.9306 - val_loss: 0.2274 - val_accuracy: 0.9260\n",
            "Epoch 6/20\n",
            "24/24 [==============================] - 0s 10ms/step - loss: 0.2218 - accuracy: 0.9304 - val_loss: 0.2116 - val_accuracy: 0.9330\n",
            "Epoch 7/20\n",
            "24/24 [==============================] - 0s 10ms/step - loss: 0.1976 - accuracy: 0.9402 - val_loss: 0.2000 - val_accuracy: 0.9420\n",
            "Epoch 8/20\n",
            "24/24 [==============================] - 0s 10ms/step - loss: 0.1775 - accuracy: 0.9441 - val_loss: 0.1982 - val_accuracy: 0.9410\n",
            "Epoch 9/20\n",
            "24/24 [==============================] - 0s 10ms/step - loss: 0.1558 - accuracy: 0.9560 - val_loss: 0.1844 - val_accuracy: 0.9500\n",
            "Epoch 10/20\n",
            "24/24 [==============================] - 0s 10ms/step - loss: 0.1551 - accuracy: 0.9535 - val_loss: 0.1829 - val_accuracy: 0.9470\n",
            "Epoch 11/20\n",
            "24/24 [==============================] - 0s 11ms/step - loss: 0.1297 - accuracy: 0.9624 - val_loss: 0.1869 - val_accuracy: 0.9460\n",
            "Epoch 12/20\n",
            "24/24 [==============================] - 0s 10ms/step - loss: 0.1222 - accuracy: 0.9645 - val_loss: 0.1959 - val_accuracy: 0.9420\n",
            "Epoch 13/20\n",
            "24/24 [==============================] - 0s 11ms/step - loss: 0.1196 - accuracy: 0.9663 - val_loss: 0.1734 - val_accuracy: 0.9450\n",
            "Epoch 14/20\n",
            "24/24 [==============================] - 0s 10ms/step - loss: 0.1006 - accuracy: 0.9716 - val_loss: 0.1771 - val_accuracy: 0.9480\n",
            "Epoch 15/20\n",
            "24/24 [==============================] - 0s 10ms/step - loss: 0.0978 - accuracy: 0.9702 - val_loss: 0.1880 - val_accuracy: 0.9420\n",
            "Epoch 16/20\n",
            "24/24 [==============================] - 0s 10ms/step - loss: 0.0916 - accuracy: 0.9744 - val_loss: 0.1774 - val_accuracy: 0.9450\n",
            "Epoch 17/20\n",
            "24/24 [==============================] - 0s 10ms/step - loss: 0.0815 - accuracy: 0.9768 - val_loss: 0.1779 - val_accuracy: 0.9480\n",
            "Epoch 18/20\n",
            "24/24 [==============================] - 0s 10ms/step - loss: 0.0831 - accuracy: 0.9738 - val_loss: 0.1651 - val_accuracy: 0.9490\n",
            "Epoch 19/20\n",
            "24/24 [==============================] - 0s 10ms/step - loss: 0.0667 - accuracy: 0.9797 - val_loss: 0.1740 - val_accuracy: 0.9560\n",
            "Epoch 20/20\n",
            "24/24 [==============================] - 0s 10ms/step - loss: 0.0703 - accuracy: 0.9798 - val_loss: 0.1614 - val_accuracy: 0.9520\n"
          ],
          "name": "stdout"
        },
        {
          "output_type": "stream",
          "text": [
            "/usr/local/lib/python3.7/dist-packages/ipykernel_launcher.py:10: DeprecationWarning: time.clock has been deprecated in Python 3.3 and will be removed from Python 3.8: use time.perf_counter or time.process_time instead\n",
            "  # Remove the CWD from sys.path while we load stuff.\n"
          ],
          "name": "stderr"
        },
        {
          "output_type": "display_data",
          "data": {
            "image/png": "[encoded data removed]",
            "text/plain": [
              "<Figure size 432x288 with 1 Axes>"
            ]
          },
          "metadata": {
            "tags": [],
            "needs_background": "light"
          }
        },
        {
          "output_type": "display_data",
          "data": {
            "image/png": "[encoded data removed]",
            "text/plain": [
              "<Figure size 432x288 with 1 Axes>"
            ]
          },
          "metadata": {
            "tags": [],
            "needs_background": "light"
          }
        },
        {
          "output_type": "stream",
          "text": [
            "lr= 0.1 batch_size= 256 epochs= 20\n",
            "accuracy = 0.9520000219345093\n",
            "Temps d apprentissage 7.476841000000007\n"
          ],
          "name": "stdout"
        }
      ]
    },
    {
      "cell_type": "markdown",
      "metadata": {
        "id": "gwN7o4YU8k9Y"
      },
      "source": [
        "+ Si le lr est trop grand ou trop petit le score diminue\n",
        "+ Plus le batch_size est grand plus le loss test diminue"
      ]
    },
    {
      "cell_type": "markdown",
      "metadata": {
        "id": "-vx7sUOyts_5"
      },
      "source": [
        "## 3. Evaluation du modèle"
      ]
    },
    {
      "cell_type": "code",
      "metadata": {
        "colab": {
          "base_uri": "https://localhost:8080/"
        },
        "id": "S1HonsdMtjpU",
        "outputId": "75364adf-98c5-4bbe-b949-a520a11a9f2b"
      },
      "source": [
        "score = model.evaluate(X_test, Y_test, verbose=0) \n",
        "print('Test loss:', score[0]) \n",
        "print('Test accuracy:', score[1]*100) \n",
        "y_pred = model.predict(X_test) \n",
        "y_pred = y_pred.argmax(axis=-1) \n",
        "print('Confusion Matrix') \n",
        "print(confusion_matrix(y_test, y_pred))"
      ],
      "execution_count": 10,
      "outputs": [
        {
          "output_type": "stream",
          "text": [
            "Test loss: 0.1660921424627304\n",
            "Test accuracy: 94.59999799728394\n",
            "Confusion Matrix\n",
            "[[ 84   0   0   0   0   0   2   0   0   0]\n",
            " [  0 121   0   0   0   0   0   0   0   0]\n",
            " [  2   0  89   3   1   0   0   0   1   0]\n",
            " [  0   0   1 101   0   2   0   1   0   1]\n",
            " [  0   0   0   0  80   0   1   0   1   4]\n",
            " [  1   0   0   1   1  96   2   0   0   0]\n",
            " [  1   1   1   0   0   1 106   0   0   0]\n",
            " [  1   1   4   0   0   0   0  91   0   4]\n",
            " [  0   0   1   0   1   3   0   0  74   1]\n",
            " [  1   1   0   2   2   2   1   0   0 104]]\n"
          ],
          "name": "stdout"
        }
      ]
    },
    {
      "cell_type": "markdown",
      "metadata": {
        "id": "rVSPWFvuaAbH"
      },
      "source": [
        "# IV. CNN"
      ]
    },
    {
      "cell_type": "markdown",
      "metadata": {
        "id": "Hz8NT_RO1g-P"
      },
      "source": [
        "## 1. Architecture du modèle"
      ]
    },
    {
      "cell_type": "code",
      "metadata": {
        "colab": {
          "base_uri": "https://localhost:8080/"
        },
        "id": "g84jSwY7aAbK",
        "outputId": "aed2bfa4-a6ca-4a99-83ed-5b4bd63bdd98"
      },
      "source": [
        "inputs = Input(shape=(28,28,1)) \n",
        "x = inputs \n",
        "x = Convolution2D(32, kernel_size = (3, 3), activation='relu' )(x)\n",
        "x = MaxPooling2D((3, 3))(x)\n",
        "x = Convolution2D(64, kernel_size = (3, 3), activation='relu' )(x)\n",
        "x = MaxPooling2D((3, 3))(x)\n",
        "x = Flatten()(x)\n",
        "x = Dense(256, activation='relu')(x)\n",
        "x = Dropout(0.5)(x) \n",
        "x = Dense(256, activation='relu')(x)\n",
        "x = Dropout(0.5)(x) \n",
        "\n",
        "outputs= Dense(10, activation='softmax')(x) \n",
        "model = Model(inputs, outputs) \n",
        "model.summary()"
      ],
      "execution_count": 11,
      "outputs": [
        {
          "output_type": "stream",
          "text": [
            "Model: \"model_2\"\n",
            "_________________________________________________________________\n",
            "Layer (type)                 Output Shape              Param #   \n",
            "=================================================================\n",
            "input_3 (InputLayer)         [(None, 28, 28, 1)]       0         \n",
            "_________________________________________________________________\n",
            "conv2d (Conv2D)              (None, 26, 26, 32)        320       \n",
            "_________________________________________________________________\n",
            "max_pooling2d (MaxPooling2D) (None, 8, 8, 32)          0         \n",
            "_________________________________________________________________\n",
            "conv2d_1 (Conv2D)            (None, 6, 6, 64)          18496     \n",
            "_________________________________________________________________\n",
            "max_pooling2d_1 (MaxPooling2 (None, 2, 2, 64)          0         \n",
            "_________________________________________________________________\n",
            "flatten_2 (Flatten)          (None, 256)               0         \n",
            "_________________________________________________________________\n",
            "dense_3 (Dense)              (None, 256)               65792     \n",
            "_________________________________________________________________\n",
            "dropout_1 (Dropout)          (None, 256)               0         \n",
            "_________________________________________________________________\n",
            "dense_4 (Dense)              (None, 256)               65792     \n",
            "_________________________________________________________________\n",
            "dropout_2 (Dropout)          (None, 256)               0         \n",
            "_________________________________________________________________\n",
            "dense_5 (Dense)              (None, 10)                2570      \n",
            "=================================================================\n",
            "Total params: 152,970\n",
            "Trainable params: 152,970\n",
            "Non-trainable params: 0\n",
            "_________________________________________________________________\n"
          ],
          "name": "stdout"
        }
      ]
    },
    {
      "cell_type": "markdown",
      "metadata": {
        "id": "L_W8tpNg3Z_J"
      },
      "source": [
        "## 2. Apprentissage"
      ]
    },
    {
      "cell_type": "code",
      "metadata": {
        "colab": {
          "base_uri": "https://localhost:8080/",
          "height": 1000
        },
        "id": "P3zoDJoI3agf",
        "outputId": "59f9c318-cbcb-44b4-bec0-c7002351e85d"
      },
      "source": [
        "lr= 0.1\n",
        "batch_size=256 \n",
        "epochs = 20\n",
        "\n",
        "sgd1= tf.keras.optimizers.SGD(learning_rate=lr, momentum = 0.9) \n",
        "model.compile(loss='categorical_crossentropy', optimizer=sgd1, metrics=['accuracy'])\n",
        "\n",
        "tps1 = time.clock() \n",
        "history =model.fit(X_train, Y_train, batch_size=batch_size, epochs=epochs, verbose=1,validation_data=(X_test, Y_test)) \n",
        "tps2 = time.clock()  \n",
        "affiche(history) \n",
        "\n",
        "#donnee en annexe \n",
        "print('lr=',lr,'batch_size=',batch_size, 'epochs=',epochs) \n",
        "print(f\"accuracy = {history.history['val_accuracy'][-1]}\")\n",
        "print('Temps d apprentissage',tps2 - tps1)"
      ],
      "execution_count": 12,
      "outputs": [
        {
          "output_type": "stream",
          "text": [
            "Epoch 1/20\n"
          ],
          "name": "stdout"
        },
        {
          "output_type": "stream",
          "text": [
            "/usr/local/lib/python3.7/dist-packages/ipykernel_launcher.py:8: DeprecationWarning: time.clock has been deprecated in Python 3.3 and will be removed from Python 3.8: use time.perf_counter or time.process_time instead\n",
            "  \n"
          ],
          "name": "stderr"
        },
        {
          "output_type": "stream",
          "text": [
            "24/24 [==============================] - 3s 109ms/step - loss: 2.2775 - accuracy: 0.1486 - val_loss: 1.4907 - val_accuracy: 0.6740\n",
            "Epoch 2/20\n",
            "24/24 [==============================] - 2s 102ms/step - loss: 1.2764 - accuracy: 0.5708 - val_loss: 0.3154 - val_accuracy: 0.9120\n",
            "Epoch 3/20\n",
            "24/24 [==============================] - 2s 100ms/step - loss: 0.4911 - accuracy: 0.8417 - val_loss: 0.1796 - val_accuracy: 0.9410\n",
            "Epoch 4/20\n",
            "24/24 [==============================] - 2s 97ms/step - loss: 0.2739 - accuracy: 0.9127 - val_loss: 0.1523 - val_accuracy: 0.9490\n",
            "Epoch 5/20\n",
            "24/24 [==============================] - 2s 98ms/step - loss: 0.2268 - accuracy: 0.9345 - val_loss: 0.1113 - val_accuracy: 0.9680\n",
            "Epoch 6/20\n",
            "24/24 [==============================] - 2s 97ms/step - loss: 0.1543 - accuracy: 0.9546 - val_loss: 0.1196 - val_accuracy: 0.9600\n",
            "Epoch 7/20\n",
            "24/24 [==============================] - 2s 98ms/step - loss: 0.1404 - accuracy: 0.9567 - val_loss: 0.1104 - val_accuracy: 0.9600\n",
            "Epoch 8/20\n",
            "24/24 [==============================] - 2s 98ms/step - loss: 0.1201 - accuracy: 0.9602 - val_loss: 0.0961 - val_accuracy: 0.9740\n",
            "Epoch 9/20\n",
            "24/24 [==============================] - 2s 97ms/step - loss: 0.0843 - accuracy: 0.9754 - val_loss: 0.0911 - val_accuracy: 0.9750\n",
            "Epoch 10/20\n",
            "24/24 [==============================] - 2s 98ms/step - loss: 0.1063 - accuracy: 0.9681 - val_loss: 0.0857 - val_accuracy: 0.9750\n",
            "Epoch 11/20\n",
            "24/24 [==============================] - 2s 98ms/step - loss: 0.0895 - accuracy: 0.9739 - val_loss: 0.0566 - val_accuracy: 0.9860\n",
            "Epoch 12/20\n",
            "24/24 [==============================] - 2s 98ms/step - loss: 0.0723 - accuracy: 0.9763 - val_loss: 0.0700 - val_accuracy: 0.9820\n",
            "Epoch 13/20\n",
            "24/24 [==============================] - 2s 99ms/step - loss: 0.0562 - accuracy: 0.9852 - val_loss: 0.0802 - val_accuracy: 0.9810\n",
            "Epoch 14/20\n",
            "24/24 [==============================] - 2s 97ms/step - loss: 0.0651 - accuracy: 0.9779 - val_loss: 0.0640 - val_accuracy: 0.9780\n",
            "Epoch 15/20\n",
            "24/24 [==============================] - 2s 97ms/step - loss: 0.0609 - accuracy: 0.9798 - val_loss: 0.0773 - val_accuracy: 0.9780\n",
            "Epoch 16/20\n",
            "24/24 [==============================] - 2s 98ms/step - loss: 0.0439 - accuracy: 0.9852 - val_loss: 0.0846 - val_accuracy: 0.9750\n",
            "Epoch 17/20\n",
            "24/24 [==============================] - 2s 99ms/step - loss: 0.0454 - accuracy: 0.9849 - val_loss: 0.1074 - val_accuracy: 0.9700\n",
            "Epoch 18/20\n",
            "24/24 [==============================] - 2s 98ms/step - loss: 0.0620 - accuracy: 0.9812 - val_loss: 0.0699 - val_accuracy: 0.9800\n",
            "Epoch 19/20\n",
            "24/24 [==============================] - 2s 98ms/step - loss: 0.0454 - accuracy: 0.9862 - val_loss: 0.0805 - val_accuracy: 0.9810\n",
            "Epoch 20/20\n",
            "24/24 [==============================] - 2s 99ms/step - loss: 0.0265 - accuracy: 0.9929 - val_loss: 0.0955 - val_accuracy: 0.9780\n"
          ],
          "name": "stdout"
        },
        {
          "output_type": "stream",
          "text": [
            "/usr/local/lib/python3.7/dist-packages/ipykernel_launcher.py:10: DeprecationWarning: time.clock has been deprecated in Python 3.3 and will be removed from Python 3.8: use time.perf_counter or time.process_time instead\n",
            "  # Remove the CWD from sys.path while we load stuff.\n"
          ],
          "name": "stderr"
        },
        {
          "output_type": "display_data",
          "data": {
            "image/png": "[encoded data removed]",
            "text/plain": [
              "<Figure size 432x288 with 1 Axes>"
            ]
          },
          "metadata": {
            "tags": [],
            "needs_background": "light"
          }
        },
        {
          "output_type": "display_data",
          "data": {
            "image/png": "[encoded data removed]",
            "text/plain": [
              "<Figure size 432x288 with 1 Axes>"
            ]
          },
          "metadata": {
            "tags": [],
            "needs_background": "light"
          }
        },
        {
          "output_type": "stream",
          "text": [
            "lr= 0.1 batch_size= 256 epochs= 20\n",
            "accuracy = 0.9779999852180481\n",
            "Temps d apprentissage 85.133025\n"
          ],
          "name": "stdout"
        }
      ]
    },
    {
      "cell_type": "markdown",
      "metadata": {
        "id": "aQsGcu3t4TtP"
      },
      "source": [
        "## 3. Evaluation du modèle"
      ]
    },
    {
      "cell_type": "code",
      "metadata": {
        "colab": {
          "base_uri": "https://localhost:8080/"
        },
        "id": "q3DzPIzm4Oex",
        "outputId": "4a71977d-e9e6-436d-871b-044682ea2875"
      },
      "source": [
        "score = model.evaluate(X_test, Y_test, verbose=0) \n",
        "print('Test loss:', score[0]) \n",
        "print('Test accuracy:', score[1]*100) \n",
        "y_pred = model.predict(X_test) \n",
        "y_pred = y_pred.argmax(axis=-1) \n",
        "print('Confusion Matrix') \n",
        "print(confusion_matrix(y_test, y_pred))"
      ],
      "execution_count": 13,
      "outputs": [
        {
          "output_type": "stream",
          "text": [
            "Test loss: 0.09550026804208755\n",
            "Test accuracy: 97.79999852180481\n",
            "Confusion Matrix\n",
            "[[ 86   0   0   0   0   0   0   0   0   0]\n",
            " [  0 120   0   0   0   0   0   1   0   0]\n",
            " [  0   0  95   1   0   0   0   0   0   0]\n",
            " [  0   0   0 105   0   0   0   1   0   0]\n",
            " [  0   0   1   0  84   0   0   0   0   1]\n",
            " [  0   0   0   1   0  98   2   0   0   0]\n",
            " [  1   1   0   0   0   0 108   0   0   0]\n",
            " [  0   0   4   0   0   0   0  97   0   0]\n",
            " [  0   0   0   0   1   1   0   0  78   0]\n",
            " [  2   0   0   1   2   0   0   1   0 107]]\n"
          ],
          "name": "stdout"
        }
      ]
    },
    {
      "cell_type": "code",
      "metadata": {
        "id": "XsNkT8NI6Ma5"
      },
      "source": [
        ""
      ],
      "execution_count": 13,
      "outputs": []
    }
  ]
}